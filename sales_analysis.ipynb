{
 "cells": [
  {
   "cell_type": "markdown",
   "metadata": {},
   "source": [
    "## Final Project\n"
   ]
  },
  {
   "cell_type": "markdown",
   "metadata": {},
   "source": [
    "\n",
    "<h2 align=right style=\"line-height:200%;font-family:vazir;color:#0099cc\">\n",
    "<font face=\"vazir\" color=\"#0099cc\">\n",
    "مجموعه‌داده\n",
    "</font>\n",
    "</h2>\n",
    "\n",
    "\n",
    "\n",
    "<p dir=rtl style=\"direction: rtl;text-align: justify;line-height:200%;font-family:vazir;font-size:medium\">\n",
    "<font face=\"vazir\" size=3>\n",
    "    داده‌های این پروژه به‌صورت یک فایل اکسل در فایلی به نام <code>sales.xlsx</code> در اختیار شما قرار گرفته و توضیحات ستون‌های مجموعه‌داده در جدول زیر آمده است. در ابتدا این داده‌ها را در قالب یک دیتافریم بخوانید.\n",
    "</font>\n",
    "</p>\n",
    "\n",
    "<center>\n",
    "<div dir=rtl style=\"direction: rtl;line-height:200%;font-family:vazir;font-size:medium\">\n",
    "<font face=\"vazir\" size=3>\n",
    "    \n",
    "|ستون|توضیحات|\n",
    "|:------:|:---:|\n",
    "|<code>InvoiceNumber</code>|\tیک شماره‌ی ۶ رقمی که به‌طور منحصر به فرد به هر فاکتور اختصاص یافته است. اگر ابتدای این شماره با حرف C شروع شود، به این معنی است که آن فاکتور لغو شده است.|\n",
    "|<code>ProductCode</code>|یک شماره‌ی ۵ رقمی که به‌طور منحصر به فرد به هر نوع محصول اختصاص یافته است.|\n",
    "|<code>ProductName</code>|نام محصول|\n",
    "|<code>Quantity</code>|تعداد سفارش از یک نوع محصول در فاکتور|\n",
    "|<code>InvoiceDate</code>|تاریخ ایجاد فاکتور|\n",
    "|<code>UnitPrice</code>|قیمت یک نوع محصول به ازای یک واحد از آن|\n",
    "|<code>CusotmerId</code>|یک شماره‌ی ۵ رقمی که به‌طور منحصر به فرد به هر مشتری اختصاص یافته‌ است.|\n",
    "|<code>Country</code>|نام کشور محل سکونت مشتری|\n",
    "\n",
    "</font>\n",
    "</div>\n",
    "</center>"
   ]
  },
  {
   "cell_type": "code",
   "execution_count": 3,
   "metadata": {},
   "outputs": [],
   "source": [
    "import matplotlib.pyplot as plt\n",
    "import numpy as np\n",
    "import pandas as pd\n",
    "np.random.seed(1402)\n"
   ]
  },
  {
   "cell_type": "code",
   "execution_count": 4,
   "metadata": {},
   "outputs": [
    {
     "data": {
      "text/html": [
       "<div>\n",
       "<style scoped>\n",
       "    .dataframe tbody tr th:only-of-type {\n",
       "        vertical-align: middle;\n",
       "    }\n",
       "\n",
       "    .dataframe tbody tr th {\n",
       "        vertical-align: top;\n",
       "    }\n",
       "\n",
       "    .dataframe thead th {\n",
       "        text-align: right;\n",
       "    }\n",
       "</style>\n",
       "<table border=\"1\" class=\"dataframe\">\n",
       "  <thead>\n",
       "    <tr style=\"text-align: right;\">\n",
       "      <th></th>\n",
       "      <th>InvoiceNumber</th>\n",
       "      <th>ProductCode</th>\n",
       "      <th>ProductName</th>\n",
       "      <th>Quantity</th>\n",
       "      <th>InvoiceDate</th>\n",
       "      <th>UnitPrice</th>\n",
       "      <th>CustomerId</th>\n",
       "      <th>Country</th>\n",
       "    </tr>\n",
       "  </thead>\n",
       "  <tbody>\n",
       "    <tr>\n",
       "      <th>0</th>\n",
       "      <td>489434</td>\n",
       "      <td>85048</td>\n",
       "      <td>15CM CHRISTMAS GLASS BALL 20 LIGHTS</td>\n",
       "      <td>12</td>\n",
       "      <td>2009-12-01 07:45:00</td>\n",
       "      <td>6.95</td>\n",
       "      <td>13085.0</td>\n",
       "      <td>United Kingdom</td>\n",
       "    </tr>\n",
       "    <tr>\n",
       "      <th>1</th>\n",
       "      <td>489434</td>\n",
       "      <td>79323P</td>\n",
       "      <td>PINK CHERRY LIGHTS</td>\n",
       "      <td>12</td>\n",
       "      <td>2009-12-01 07:45:00</td>\n",
       "      <td>6.75</td>\n",
       "      <td>13085.0</td>\n",
       "      <td>United Kingdom</td>\n",
       "    </tr>\n",
       "    <tr>\n",
       "      <th>2</th>\n",
       "      <td>489434</td>\n",
       "      <td>79323W</td>\n",
       "      <td>WHITE CHERRY LIGHTS</td>\n",
       "      <td>12</td>\n",
       "      <td>2009-12-01 07:45:00</td>\n",
       "      <td>6.75</td>\n",
       "      <td>13085.0</td>\n",
       "      <td>United Kingdom</td>\n",
       "    </tr>\n",
       "    <tr>\n",
       "      <th>3</th>\n",
       "      <td>489434</td>\n",
       "      <td>22041</td>\n",
       "      <td>RECORD FRAME 7\" SINGLE SIZE</td>\n",
       "      <td>48</td>\n",
       "      <td>2009-12-01 07:45:00</td>\n",
       "      <td>2.10</td>\n",
       "      <td>13085.0</td>\n",
       "      <td>United Kingdom</td>\n",
       "    </tr>\n",
       "    <tr>\n",
       "      <th>4</th>\n",
       "      <td>489434</td>\n",
       "      <td>21232</td>\n",
       "      <td>STRAWBERRY CERAMIC TRINKET BOX</td>\n",
       "      <td>24</td>\n",
       "      <td>2009-12-01 07:45:00</td>\n",
       "      <td>1.25</td>\n",
       "      <td>13085.0</td>\n",
       "      <td>United Kingdom</td>\n",
       "    </tr>\n",
       "  </tbody>\n",
       "</table>\n",
       "</div>"
      ],
      "text/plain": [
       "  InvoiceNumber ProductCode                          ProductName  Quantity  \\\n",
       "0        489434       85048  15CM CHRISTMAS GLASS BALL 20 LIGHTS        12   \n",
       "1        489434      79323P                   PINK CHERRY LIGHTS        12   \n",
       "2        489434      79323W                  WHITE CHERRY LIGHTS        12   \n",
       "3        489434       22041         RECORD FRAME 7\" SINGLE SIZE         48   \n",
       "4        489434       21232       STRAWBERRY CERAMIC TRINKET BOX        24   \n",
       "\n",
       "          InvoiceDate  UnitPrice  CustomerId         Country  \n",
       "0 2009-12-01 07:45:00       6.95     13085.0  United Kingdom  \n",
       "1 2009-12-01 07:45:00       6.75     13085.0  United Kingdom  \n",
       "2 2009-12-01 07:45:00       6.75     13085.0  United Kingdom  \n",
       "3 2009-12-01 07:45:00       2.10     13085.0  United Kingdom  \n",
       "4 2009-12-01 07:45:00       1.25     13085.0  United Kingdom  "
      ]
     },
     "execution_count": 4,
     "metadata": {},
     "output_type": "execute_result"
    }
   ],
   "source": [
    "df=pd.read_excel('sales.xlsx')\n",
    "df.head()\n"
   ]
  },
  {
   "cell_type": "code",
   "execution_count": 5,
   "metadata": {},
   "outputs": [
    {
     "data": {
      "text/html": [
       "<div>\n",
       "<style scoped>\n",
       "    .dataframe tbody tr th:only-of-type {\n",
       "        vertical-align: middle;\n",
       "    }\n",
       "\n",
       "    .dataframe tbody tr th {\n",
       "        vertical-align: top;\n",
       "    }\n",
       "\n",
       "    .dataframe thead th {\n",
       "        text-align: right;\n",
       "    }\n",
       "</style>\n",
       "<table border=\"1\" class=\"dataframe\">\n",
       "  <thead>\n",
       "    <tr style=\"text-align: right;\">\n",
       "      <th></th>\n",
       "      <th>InvoiceNumber</th>\n",
       "      <th>ProductCode</th>\n",
       "      <th>ProductName</th>\n",
       "      <th>Quantity</th>\n",
       "      <th>InvoiceDate</th>\n",
       "      <th>UnitPrice</th>\n",
       "      <th>CustomerId</th>\n",
       "      <th>Country</th>\n",
       "    </tr>\n",
       "  </thead>\n",
       "  <tbody>\n",
       "    <tr>\n",
       "      <th>0</th>\n",
       "      <td>489434</td>\n",
       "      <td>85048</td>\n",
       "      <td>15CM CHRISTMAS GLASS BALL 20 LIGHTS</td>\n",
       "      <td>12</td>\n",
       "      <td>2009-12-01 07:45:00</td>\n",
       "      <td>6.95</td>\n",
       "      <td>13085.0</td>\n",
       "      <td>United Kingdom</td>\n",
       "    </tr>\n",
       "    <tr>\n",
       "      <th>1</th>\n",
       "      <td>489434</td>\n",
       "      <td>79323P</td>\n",
       "      <td>PINK CHERRY LIGHTS</td>\n",
       "      <td>12</td>\n",
       "      <td>2009-12-01 07:45:00</td>\n",
       "      <td>6.75</td>\n",
       "      <td>13085.0</td>\n",
       "      <td>United Kingdom</td>\n",
       "    </tr>\n",
       "    <tr>\n",
       "      <th>2</th>\n",
       "      <td>489434</td>\n",
       "      <td>79323W</td>\n",
       "      <td>WHITE CHERRY LIGHTS</td>\n",
       "      <td>12</td>\n",
       "      <td>2009-12-01 07:45:00</td>\n",
       "      <td>6.75</td>\n",
       "      <td>13085.0</td>\n",
       "      <td>United Kingdom</td>\n",
       "    </tr>\n",
       "    <tr>\n",
       "      <th>3</th>\n",
       "      <td>489434</td>\n",
       "      <td>22041</td>\n",
       "      <td>RECORD FRAME 7\" SINGLE SIZE</td>\n",
       "      <td>48</td>\n",
       "      <td>2009-12-01 07:45:00</td>\n",
       "      <td>2.10</td>\n",
       "      <td>13085.0</td>\n",
       "      <td>United Kingdom</td>\n",
       "    </tr>\n",
       "    <tr>\n",
       "      <th>4</th>\n",
       "      <td>489434</td>\n",
       "      <td>21232</td>\n",
       "      <td>STRAWBERRY CERAMIC TRINKET BOX</td>\n",
       "      <td>24</td>\n",
       "      <td>2009-12-01 07:45:00</td>\n",
       "      <td>1.25</td>\n",
       "      <td>13085.0</td>\n",
       "      <td>United Kingdom</td>\n",
       "    </tr>\n",
       "    <tr>\n",
       "      <th>...</th>\n",
       "      <td>...</td>\n",
       "      <td>...</td>\n",
       "      <td>...</td>\n",
       "      <td>...</td>\n",
       "      <td>...</td>\n",
       "      <td>...</td>\n",
       "      <td>...</td>\n",
       "      <td>...</td>\n",
       "    </tr>\n",
       "    <tr>\n",
       "      <th>525456</th>\n",
       "      <td>538171</td>\n",
       "      <td>22271</td>\n",
       "      <td>FELTCRAFT DOLL ROSIE</td>\n",
       "      <td>2</td>\n",
       "      <td>2010-12-09 20:01:00</td>\n",
       "      <td>2.95</td>\n",
       "      <td>17530.0</td>\n",
       "      <td>United Kingdom</td>\n",
       "    </tr>\n",
       "    <tr>\n",
       "      <th>525457</th>\n",
       "      <td>538171</td>\n",
       "      <td>22750</td>\n",
       "      <td>FELTCRAFT PRINCESS LOLA DOLL</td>\n",
       "      <td>1</td>\n",
       "      <td>2010-12-09 20:01:00</td>\n",
       "      <td>3.75</td>\n",
       "      <td>17530.0</td>\n",
       "      <td>United Kingdom</td>\n",
       "    </tr>\n",
       "    <tr>\n",
       "      <th>525458</th>\n",
       "      <td>538171</td>\n",
       "      <td>22751</td>\n",
       "      <td>FELTCRAFT PRINCESS OLIVIA DOLL</td>\n",
       "      <td>1</td>\n",
       "      <td>2010-12-09 20:01:00</td>\n",
       "      <td>3.75</td>\n",
       "      <td>17530.0</td>\n",
       "      <td>United Kingdom</td>\n",
       "    </tr>\n",
       "    <tr>\n",
       "      <th>525459</th>\n",
       "      <td>538171</td>\n",
       "      <td>20970</td>\n",
       "      <td>PINK FLORAL FELTCRAFT SHOULDER BAG</td>\n",
       "      <td>2</td>\n",
       "      <td>2010-12-09 20:01:00</td>\n",
       "      <td>3.75</td>\n",
       "      <td>17530.0</td>\n",
       "      <td>United Kingdom</td>\n",
       "    </tr>\n",
       "    <tr>\n",
       "      <th>525460</th>\n",
       "      <td>538171</td>\n",
       "      <td>21931</td>\n",
       "      <td>JUMBO STORAGE BAG SUKI</td>\n",
       "      <td>2</td>\n",
       "      <td>2010-12-09 20:01:00</td>\n",
       "      <td>1.95</td>\n",
       "      <td>17530.0</td>\n",
       "      <td>United Kingdom</td>\n",
       "    </tr>\n",
       "  </tbody>\n",
       "</table>\n",
       "<p>518596 rows × 8 columns</p>\n",
       "</div>"
      ],
      "text/plain": [
       "       InvoiceNumber ProductCode                          ProductName  \\\n",
       "0             489434       85048  15CM CHRISTMAS GLASS BALL 20 LIGHTS   \n",
       "1             489434      79323P                   PINK CHERRY LIGHTS   \n",
       "2             489434      79323W                  WHITE CHERRY LIGHTS   \n",
       "3             489434       22041         RECORD FRAME 7\" SINGLE SIZE    \n",
       "4             489434       21232       STRAWBERRY CERAMIC TRINKET BOX   \n",
       "...              ...         ...                                  ...   \n",
       "525456        538171       22271                 FELTCRAFT DOLL ROSIE   \n",
       "525457        538171       22750         FELTCRAFT PRINCESS LOLA DOLL   \n",
       "525458        538171       22751       FELTCRAFT PRINCESS OLIVIA DOLL   \n",
       "525459        538171       20970   PINK FLORAL FELTCRAFT SHOULDER BAG   \n",
       "525460        538171       21931               JUMBO STORAGE BAG SUKI   \n",
       "\n",
       "        Quantity         InvoiceDate  UnitPrice  CustomerId         Country  \n",
       "0             12 2009-12-01 07:45:00       6.95     13085.0  United Kingdom  \n",
       "1             12 2009-12-01 07:45:00       6.75     13085.0  United Kingdom  \n",
       "2             12 2009-12-01 07:45:00       6.75     13085.0  United Kingdom  \n",
       "3             48 2009-12-01 07:45:00       2.10     13085.0  United Kingdom  \n",
       "4             24 2009-12-01 07:45:00       1.25     13085.0  United Kingdom  \n",
       "...          ...                 ...        ...         ...             ...  \n",
       "525456         2 2010-12-09 20:01:00       2.95     17530.0  United Kingdom  \n",
       "525457         1 2010-12-09 20:01:00       3.75     17530.0  United Kingdom  \n",
       "525458         1 2010-12-09 20:01:00       3.75     17530.0  United Kingdom  \n",
       "525459         2 2010-12-09 20:01:00       3.75     17530.0  United Kingdom  \n",
       "525460         2 2010-12-09 20:01:00       1.95     17530.0  United Kingdom  \n",
       "\n",
       "[518596 rows x 8 columns]"
      ]
     },
     "execution_count": 5,
     "metadata": {},
     "output_type": "execute_result"
    }
   ],
   "source": [
    "df.drop_duplicates()"
   ]
  },
  {
   "cell_type": "code",
   "execution_count": 7,
   "metadata": {},
   "outputs": [],
   "source": [
    "df = df.loc[(df['UnitPrice'] > 0) & (df['UnitPrice'].notnull())]"
   ]
  },
  {
   "cell_type": "code",
   "execution_count": 8,
   "metadata": {},
   "outputs": [],
   "source": [
    "df = df.loc[(df['CustomerId'].notna()) & (df['CustomerId'] != 0)]"
   ]
  },
  {
   "cell_type": "code",
   "execution_count": 13,
   "metadata": {},
   "outputs": [
    {
     "data": {
      "text/plain": [
       "178       C489449\n",
       "179       C489449\n",
       "180       C489449\n",
       "181       C489449\n",
       "182       C489449\n",
       "           ...   \n",
       "524695    C538123\n",
       "524696    C538124\n",
       "524697    C538124\n",
       "524698    C538124\n",
       "525282    C538164\n",
       "Name: InvoiceNumber, Length: 9839, dtype: object"
      ]
     },
     "execution_count": 13,
     "metadata": {},
     "output_type": "execute_result"
    }
   ],
   "source": [
    "df['InvoiceNumber'] = df['InvoiceNumber'].astype(str)  \n",
    "df.loc[df['InvoiceNumber'].str.startswith('C'), 'InvoiceNumber']"
   ]
  },
  {
   "cell_type": "code",
   "execution_count": 14,
   "metadata": {},
   "outputs": [
    {
     "data": {
      "text/plain": [
       "0         489434\n",
       "1         489434\n",
       "2         489434\n",
       "3         489434\n",
       "4         489434\n",
       "           ...  \n",
       "525456    538171\n",
       "525457    538171\n",
       "525458    538171\n",
       "525459    538171\n",
       "525460    538171\n",
       "Name: InvoiceNumber, Length: 417503, dtype: int32"
      ]
     },
     "execution_count": 14,
     "metadata": {},
     "output_type": "execute_result"
    }
   ],
   "source": [
    "df['InvoiceNumber'] = df['InvoiceNumber'].astype(str)\n",
    "\n",
    "# Then cast to int for numeric ops  \n",
    "df['InvoiceNumber'].str.replace('C','').astype(int)"
   ]
  },
  {
   "cell_type": "code",
   "execution_count": 15,
   "metadata": {},
   "outputs": [],
   "source": [
    "df_cancelled = df[df['InvoiceNumber'].str.startswith('C')]\n",
    "df_regular = df[~df['InvoiceNumber'].str.startswith('C')]"
   ]
  },
  {
   "cell_type": "code",
   "execution_count": 23,
   "metadata": {},
   "outputs": [],
   "source": [
    "count = df_cancelled.groupby('CustomerId')['InvoiceNumber'].count()\n",
    "count = count.sort_values(ascending=False)"
   ]
  },
  {
   "cell_type": "code",
   "execution_count": 38,
   "metadata": {},
   "outputs": [
    {
     "name": "stdout",
     "output_type": "stream",
     "text": [
      "CustomerId\n",
      "15311.0    171\n",
      "14911.0    140\n",
      "17511.0    110\n",
      "14680.0    104\n",
      "13798.0    102\n",
      "Name: InvoiceNumber, dtype: int64\n"
     ]
    }
   ],
   "source": [
    "# Print first 5 rows of data only \n",
    "print(count[count.index[:5]]) "
   ]
  },
  {
   "cell_type": "code",
   "execution_count": 40,
   "metadata": {},
   "outputs": [],
   "source": [
    "df = df_regular\n",
    "# ذخیره در فایل csv\n",
    "df.to_csv('remaining.csv', index=False)"
   ]
  },
  {
   "cell_type": "code",
   "execution_count": 42,
   "metadata": {},
   "outputs": [
    {
     "data": {
      "text/plain": [
       "407664"
      ]
     },
     "execution_count": 42,
     "metadata": {},
     "output_type": "execute_result"
    }
   ],
   "source": [
    "# تعداد سطرهای دیتافریم باقیمانده\n",
    "remaining_count = len(df) \n",
    "remaining_count"
   ]
  },
  {
   "cell_type": "code",
   "execution_count": 48,
   "metadata": {},
   "outputs": [
    {
     "name": "stdout",
     "output_type": "stream",
     "text": [
      " 2009-12-01 07:45:00 till 2010-12-09 20:01:00\n"
     ]
    }
   ],
   "source": [
    "df.loc[:, 'InvoiceDate'] = pd.to_datetime(df.loc[:, 'InvoiceDate'])\n",
    "\n",
    "\n",
    "# حداقل و حداکثر تاریخ  \n",
    "min_date = df['InvoiceDate'].min()\n",
    "max_date = df['InvoiceDate'].max()\n",
    "\n",
    "print(f' {min_date} till {max_date}')"
   ]
  },
  {
   "cell_type": "code",
   "execution_count": 51,
   "metadata": {},
   "outputs": [
    {
     "name": "stderr",
     "output_type": "stream",
     "text": [
      "C:\\Users\\JAAME\\AppData\\Local\\Temp\\ipykernel_212\\2885697328.py:2: SettingWithCopyWarning: \n",
      "A value is trying to be set on a copy of a slice from a DataFrame.\n",
      "Try using .loc[row_indexer,col_indexer] = value instead\n",
      "\n",
      "See the caveats in the documentation: https://pandas.pydata.org/pandas-docs/stable/user_guide/indexing.html#returning-a-view-versus-a-copy\n",
      "  df['Day'] = df['InvoiceDate'].dt.dayofweek\n"
     ]
    },
    {
     "data": {
      "image/png": "[encoded data removed]",
      "text/plain": [
       "<Figure size 640x480 with 1 Axes>"
      ]
     },
     "metadata": {},
     "output_type": "display_data"
    }
   ],
   "source": [
    "\n",
    "# Extract day from datetime \n",
    "df['Day'] = df['InvoiceDate'].dt.dayofweek\n",
    "\n",
    "# Map numbers to day names\n",
    "days = ['Monday','Tuesday','Wednesday','Thursday','Friday','Saturday','Sunday'] \n",
    "\n",
    "# Group and count orders\n",
    "orders_by_day = df.groupby('Day').size()\n",
    "\n",
    "plt.bar(days, orders_by_day)\n",
    "\n",
    "plt.xlabel('Day of Week')\n",
    "plt.ylabel('Number of Orders') \n",
    "plt.title('Orders by Day of Week')\n",
    "\n",
    "plt.show()"
   ]
  },
  {
   "cell_type": "code",
   "execution_count": 59,
   "metadata": {},
   "outputs": [
    {
     "data": {
      "image/png": "[encoded data removed]",
      "text/plain": [
       "<Figure size 640x480 with 1 Axes>"
      ]
     },
     "metadata": {},
     "output_type": "display_data"
    }
   ],
   "source": [
    "\n",
    "# محاسبه مجموع فروش با گروه بندی سال و ماه\n",
    "monthly_sales = df.groupby([df['InvoiceDate'].dt.year, df['InvoiceDate'].dt.month])['Quantity'].sum()\n",
    "\n",
    "\n",
    "# رسم نمودار\n",
    "monthly_sales.plot(kind='bar') \n",
    "\n",
    "plt.xlabel('Years & Months')\n",
    "plt.ylabel('Total Sales')\n",
    "plt.title('Monthly Sales by Year')\n",
    "\n",
    "plt.show()"
   ]
  }
 ],
 "metadata": {
  "kernelspec": {
   "display_name": "Python 3.11.5 ('venv': venv)",
   "language": "python",
   "name": "python3"
  },
  "language_info": {
   "codemirror_mode": {
    "name": "ipython",
    "version": 3
   },
   "file_extension": ".py",
   "mimetype": "text/x-python",
   "name": "python",
   "nbconvert_exporter": "python",
   "pygments_lexer": "ipython3",
   "version": "3.11.5"
  },
  "vscode": {
   "interpreter": {
    "hash": "9b5575ebb104eb9fb31bec15238eafbadc435f9798493479b5c795e20fd6b80b"
   }
  }
 },
 "nbformat": 4,
 "nbformat_minor": 2
}
